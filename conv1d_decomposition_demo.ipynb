{
  "nbformat": 4,
  "nbformat_minor": 0,
  "metadata": {
    "accelerator": "GPU",
    "colab": {
      "name": "cnn_decomposition_demo.ipynb",
      "provenance": []
    },
    "kernelspec": {
      "display_name": "Python 3",
      "language": "python",
      "name": "python3"
    },
    "language_info": {
      "codemirror_mode": {
        "name": "ipython",
        "version": 3
      },
      "file_extension": ".py",
      "mimetype": "text/x-python",
      "name": "python",
      "nbconvert_exporter": "python",
      "pygments_lexer": "ipython3",
      "version": "3.6.9"
    }
  },
  "cells": [
    {
      "cell_type": "markdown",
      "metadata": {
        "colab_type": "text",
        "id": "j7CI8T-Oxv3a"
      },
      "source": [
        "### Dependencies"
      ]
    },
    {
      "cell_type": "code",
      "metadata": {
        "colab_type": "code",
        "id": "1RUl59iOxtSM",
        "outputId": "1ef1d907-e2de-4ba2-ebda-a2ad04cb97a9",
        "colab": {
          "base_uri": "https://localhost:8080/",
          "height": 121
        }
      },
      "source": [
        "!git clone \"https://github.com/suyash/ContextualDecomposition.git\" && mv ContextualDecomposition/cd ./cd"
      ],
      "execution_count": 1,
      "outputs": [
        {
          "output_type": "stream",
          "text": [
            "Cloning into 'ContextualDecomposition'...\n",
            "remote: Enumerating objects: 59, done.\u001b[K\n",
            "remote: Counting objects: 100% (59/59), done.\u001b[K\n",
            "remote: Compressing objects: 100% (34/34), done.\u001b[K\n",
            "remote: Total 59 (delta 30), reused 52 (delta 23), pack-reused 0\u001b[K\n",
            "Unpacking objects: 100% (59/59), done.\n"
          ],
          "name": "stdout"
        }
      ]
    },
    {
      "cell_type": "code",
      "metadata": {
        "colab_type": "code",
        "id": "5Q_p9EfZxQpx",
        "outputId": "314577d9-3ae3-4666-fb20-cf0023bc8bb7",
        "colab": {
          "base_uri": "https://localhost:8080/",
          "height": 86
        }
      },
      "source": [
        "!curl -L -o \"job_dir.zip\" \"https://drive.google.com/uc?export=download&id=1wkygiEOc2T9LFbD4fcO__9tXGVkxu0qu\" && unzip -q -d \"job_dir\" \"job_dir.zip\""
      ],
      "execution_count": 2,
      "outputs": [
        {
          "output_type": "stream",
          "text": [
            "  % Total    % Received % Xferd  Average Speed   Time    Time     Time  Current\n",
            "                                 Dload  Upload   Total   Spent    Left  Speed\n",
            "100   388    0   388    0     0   1366      0 --:--:-- --:--:-- --:--:--  1361\n",
            "100 11.0M    0 11.0M    0     0  6616k      0 --:--:--  0:00:01 --:--:--  448M\n"
          ],
          "name": "stdout"
        }
      ]
    },
    {
      "cell_type": "markdown",
      "metadata": {
        "colab_type": "text",
        "id": "8eZJUKK70evz"
      },
      "source": [
        "### Imports"
      ]
    },
    {
      "cell_type": "code",
      "metadata": {
        "colab_type": "code",
        "id": "ADDYjJZq0rtZ",
        "outputId": "e67a4834-e2ce-4af0-c56c-34b24bf4fa13",
        "colab": {
          "base_uri": "https://localhost:8080/",
          "height": 34
        }
      },
      "source": [
        "%tensorflow_version 2.x"
      ],
      "execution_count": 3,
      "outputs": [
        {
          "output_type": "stream",
          "text": [
            "TensorFlow 2.x selected.\n"
          ],
          "name": "stdout"
        }
      ]
    },
    {
      "cell_type": "code",
      "metadata": {
        "colab_type": "code",
        "id": "wGhV7mrdxBpY",
        "colab": {}
      },
      "source": [
        "import numpy as np\n",
        "import tensorflow as tf\n",
        "from tensorflow.keras import Model  # pylint: disable=import-error\n",
        "\n",
        "from cd.cd import cnn_net_decomposition\n",
        "from cd.preprocess import create_table, create_inv_table"
      ],
      "execution_count": 0,
      "outputs": []
    },
    {
      "cell_type": "code",
      "metadata": {
        "colab_type": "code",
        "id": "aBQ73NDPxBpi",
        "outputId": "a39963a1-38b6-48a0-8935-8532c2add168",
        "colab": {
          "base_uri": "https://localhost:8080/",
          "height": 764
        }
      },
      "source": [
        "model = tf.keras.models.load_model(\"job_dir/saved_model/best\")\n",
        "model.summary()"
      ],
      "execution_count": 5,
      "outputs": [
        {
          "output_type": "stream",
          "text": [
            "Model: \"model\"\n",
            "__________________________________________________________________________________________________\n",
            "Layer (type)                    Output Shape         Param #     Connected to                     \n",
            "==================================================================================================\n",
            "input_1 (InputLayer)            [(None, None)]       0                                            \n",
            "__________________________________________________________________________________________________\n",
            "embedding (Embedding)           (None, None, 64)     915904      input_1[0][0]                    \n",
            "__________________________________________________________________________________________________\n",
            "conv1d (Conv1D)                 (None, None, 256)    33024       embedding[0][0]                  \n",
            "__________________________________________________________________________________________________\n",
            "conv1d_1 (Conv1D)               (None, None, 128)    24704       embedding[0][0]                  \n",
            "__________________________________________________________________________________________________\n",
            "conv1d_2 (Conv1D)               (None, None, 64)     16448       embedding[0][0]                  \n",
            "__________________________________________________________________________________________________\n",
            "conv1d_3 (Conv1D)               (None, None, 32)     10272       embedding[0][0]                  \n",
            "__________________________________________________________________________________________________\n",
            "tanh_0 (Activation)             (None, None, 256)    0           conv1d[0][0]                     \n",
            "__________________________________________________________________________________________________\n",
            "tanh_1 (Activation)             (None, None, 128)    0           conv1d_1[0][0]                   \n",
            "__________________________________________________________________________________________________\n",
            "tanh_2 (Activation)             (None, None, 64)     0           conv1d_2[0][0]                   \n",
            "__________________________________________________________________________________________________\n",
            "tanh_3 (Activation)             (None, None, 32)     0           conv1d_3[0][0]                   \n",
            "__________________________________________________________________________________________________\n",
            "global_max_pooling1d (GlobalMax (None, 256)          0           tanh_0[0][0]                     \n",
            "__________________________________________________________________________________________________\n",
            "global_max_pooling1d_1 (GlobalM (None, 128)          0           tanh_1[0][0]                     \n",
            "__________________________________________________________________________________________________\n",
            "global_max_pooling1d_2 (GlobalM (None, 64)           0           tanh_2[0][0]                     \n",
            "__________________________________________________________________________________________________\n",
            "global_max_pooling1d_3 (GlobalM (None, 32)           0           tanh_3[0][0]                     \n",
            "__________________________________________________________________________________________________\n",
            "concatenate (Concatenate)       (None, 480)          0           global_max_pooling1d[0][0]       \n",
            "                                                                 global_max_pooling1d_1[0][0]     \n",
            "                                                                 global_max_pooling1d_2[0][0]     \n",
            "                                                                 global_max_pooling1d_3[0][0]     \n",
            "__________________________________________________________________________________________________\n",
            "dense (Dense)                   (None, 2)            962         concatenate[0][0]                \n",
            "==================================================================================================\n",
            "Total params: 1,001,314\n",
            "Trainable params: 1,001,314\n",
            "Non-trainable params: 0\n",
            "__________________________________________________________________________________________________\n"
          ],
          "name": "stdout"
        }
      ]
    },
    {
      "cell_type": "code",
      "metadata": {
        "colab_type": "code",
        "id": "eckB_JwkxBps",
        "colab": {}
      },
      "source": [
        "tokens = np.load(\"job_dir/tokens.npy\")\n",
        "table = create_table(tokens)\n",
        "inv_table = create_inv_table(tokens)"
      ],
      "execution_count": 0,
      "outputs": []
    },
    {
      "cell_type": "markdown",
      "metadata": {
        "colab_type": "text",
        "id": "iVFs3an0xBpy"
      },
      "source": [
        "### Process Input"
      ]
    },
    {
      "cell_type": "code",
      "metadata": {
        "id": "WMw-sO_wKKmq",
        "colab_type": "code",
        "colab": {}
      },
      "source": [
        "s = \"the longer the movie goes , the worse it gets , but it 's actually pretty good in the first few minutes\""
      ],
      "execution_count": 0,
      "outputs": []
    },
    {
      "cell_type": "code",
      "metadata": {
        "colab_type": "code",
        "id": "NGgdMoEUxBp7",
        "outputId": "f0e81a2d-3537-4bb1-abe7-0318f37f0b21",
        "colab": {
          "base_uri": "https://localhost:8080/",
          "height": 86
        }
      },
      "source": [
        "inp = table.lookup(tf.constant(s.split()))\n",
        "inp = tf.expand_dims(inp, 0)\n",
        "inp"
      ],
      "execution_count": 8,
      "outputs": [
        {
          "output_type": "execute_result",
          "data": {
            "text/plain": [
              "<tf.Tensor: shape=(1, 22), dtype=int32, numpy=\n",
              "array([[   1, 1752,    1,   19,  336,    2,    1,  552,   12,  283,    2,\n",
              "          22,   12,    8,  301,  313,   46,   11,    1,  167,  169,  164]],\n",
              "      dtype=int32)>"
            ]
          },
          "metadata": {
            "tags": []
          },
          "execution_count": 8
        }
      ]
    },
    {
      "cell_type": "markdown",
      "metadata": {
        "colab_type": "text",
        "id": "0WX57WJYxBqC"
      },
      "source": [
        "### Generate Overall Prediction"
      ]
    },
    {
      "cell_type": "code",
      "metadata": {
        "colab_type": "code",
        "id": "dYcUo5ntxBqE",
        "outputId": "b5b65ec3-c322-4be2-f14f-ed0b9c9d0b7e",
        "colab": {
          "base_uri": "https://localhost:8080/",
          "height": 34
        }
      },
      "source": [
        "x = model.predict(inp)\n",
        "x = tf.math.softmax(x)\n",
        "x"
      ],
      "execution_count": 9,
      "outputs": [
        {
          "output_type": "execute_result",
          "data": {
            "text/plain": [
              "<tf.Tensor: shape=(1, 2), dtype=float32, numpy=array([[0.98572636, 0.01427361]], dtype=float32)>"
            ]
          },
          "metadata": {
            "tags": []
          },
          "execution_count": 9
        }
      ]
    },
    {
      "cell_type": "markdown",
      "metadata": {
        "colab_type": "text",
        "id": "EuK66fAxxBqI"
      },
      "source": [
        "$P(neg) = 0.98$, $P(pos) = 0.01$\n",
        "\n",
        "Now, decomposing and getting predictions for subsections"
      ]
    },
    {
      "cell_type": "code",
      "metadata": {
        "colab_type": "code",
        "id": "N1gvo4A1xBqJ",
        "outputId": "3bc7e4b1-410a-4a40-cf63-232ca23ebdd2",
        "colab": {
          "base_uri": "https://localhost:8080/",
          "height": 399
        }
      },
      "source": [
        "t = inv_table.lookup(inp[0]).numpy()\n",
        "list(enumerate(t))"
      ],
      "execution_count": 10,
      "outputs": [
        {
          "output_type": "execute_result",
          "data": {
            "text/plain": [
              "[(0, b'the'),\n",
              " (1, b'longer'),\n",
              " (2, b'the'),\n",
              " (3, b'movie'),\n",
              " (4, b'goes'),\n",
              " (5, b','),\n",
              " (6, b'the'),\n",
              " (7, b'worse'),\n",
              " (8, b'it'),\n",
              " (9, b'gets'),\n",
              " (10, b','),\n",
              " (11, b'but'),\n",
              " (12, b'it'),\n",
              " (13, b\"'s\"),\n",
              " (14, b'actually'),\n",
              " (15, b'pretty'),\n",
              " (16, b'good'),\n",
              " (17, b'in'),\n",
              " (18, b'the'),\n",
              " (19, b'first'),\n",
              " (20, b'few'),\n",
              " (21, b'minutes')]"
            ]
          },
          "metadata": {
            "tags": []
          },
          "execution_count": 10
        }
      ]
    },
    {
      "cell_type": "markdown",
      "metadata": {
        "colab_type": "text",
        "id": "x97SfTKlxBqe"
      },
      "source": [
        "### Decomposing the prediction into the prediction for [0..15] and [16..26]"
      ]
    },
    {
      "cell_type": "code",
      "metadata": {
        "colab_type": "code",
        "id": "6c2JiDkAxBqg",
        "colab": {}
      },
      "source": [
        "weights = model.weights"
      ],
      "execution_count": 0,
      "outputs": []
    },
    {
      "cell_type": "code",
      "metadata": {
        "colab_type": "code",
        "id": "UxtXQoMtxBqm",
        "colab": {}
      },
      "source": [
        "embed_inp = tf.nn.embedding_lookup(params=weights[0], ids=inp)"
      ],
      "execution_count": 0,
      "outputs": []
    },
    {
      "cell_type": "code",
      "metadata": {
        "id": "-aGT_ORkKKnL",
        "colab_type": "code",
        "colab": {}
      },
      "source": [
        "conv_weights = []\n",
        "for i in range((len(weights) - 3) // 2):\n",
        "    conv_weights.append([weights[2 * i + 1], weights[2 * i + 2]])"
      ],
      "execution_count": 0,
      "outputs": []
    },
    {
      "cell_type": "code",
      "metadata": {
        "colab_type": "code",
        "id": "NG-I_V1dxBqq",
        "colab": {}
      },
      "source": [
        "pred_0_11, _ = cnn_net_decomposition(embed_inp, conv_weights, 0, 11)\n",
        "pred_12_21, _ = cnn_net_decomposition(embed_inp, conv_weights, 12, 21)"
      ],
      "execution_count": 0,
      "outputs": []
    },
    {
      "cell_type": "code",
      "metadata": {
        "id": "d1Q-3LcwKKnR",
        "colab_type": "code",
        "colab": {}
      },
      "source": [
        "dw, db = weights[-2], weights[-1]"
      ],
      "execution_count": 0,
      "outputs": []
    },
    {
      "cell_type": "code",
      "metadata": {
        "colab_type": "code",
        "id": "AAOiY_AaxBqu",
        "outputId": "02fe38b3-a910-4c3a-fe10-d4befbb3b1d0",
        "colab": {
          "base_uri": "https://localhost:8080/",
          "height": 34
        }
      },
      "source": [
        "tf.math.softmax(tf.matmul(pred_0_11, dw) + db)"
      ],
      "execution_count": 16,
      "outputs": [
        {
          "output_type": "execute_result",
          "data": {
            "text/plain": [
              "<tf.Tensor: shape=(1, 2), dtype=float32, numpy=array([[9.99986529e-01, 1.34848515e-05]], dtype=float32)>"
            ]
          },
          "metadata": {
            "tags": []
          },
          "execution_count": 16
        }
      ]
    },
    {
      "cell_type": "code",
      "metadata": {
        "colab_type": "code",
        "id": "Bd64gk9TxBqz",
        "outputId": "d0be51f5-bd3c-4a06-a461-f94efea25aa1",
        "colab": {
          "base_uri": "https://localhost:8080/",
          "height": 34
        }
      },
      "source": [
        "tf.math.softmax(tf.matmul(pred_12_21, dw) + db)"
      ],
      "execution_count": 17,
      "outputs": [
        {
          "output_type": "execute_result",
          "data": {
            "text/plain": [
              "<tf.Tensor: shape=(1, 2), dtype=float32, numpy=array([[8.0306752e-04, 9.9919695e-01]], dtype=float32)>"
            ]
          },
          "metadata": {
            "tags": []
          },
          "execution_count": 17
        }
      ]
    },
    {
      "cell_type": "markdown",
      "metadata": {
        "colab_type": "text",
        "id": "AN9S5whwxBq4"
      },
      "source": [
        "decomposed prediction for __\"the longer the movie goes , the worse it gets , but\"__: $P(neg) = 0.999, P(pos) = 0.0001$\n",
        "\n",
        "decomposed prediction for __\"it 's actually pretty good in the first few minutes\"__: $P(neg) = 0.0008, P(pos) = 0.991$"
      ]
    },
    {
      "cell_type": "markdown",
      "metadata": {
        "colab_type": "text",
        "id": "Q9yTEzkh8Gcs"
      },
      "source": [
        "### Individual Word Level Decomposition"
      ]
    },
    {
      "cell_type": "code",
      "metadata": {
        "colab_type": "code",
        "id": "7pPBCCbZ8KGj",
        "colab": {}
      },
      "source": [
        "preds = []\n",
        "for i in range(22):\n",
        "    rel, _ = cnn_net_decomposition(embed_inp, conv_weights, i, i)\n",
        "    pred = tf.math.softmax(tf.matmul(rel, dw) + db)\n",
        "    preds.append(pred.numpy().tolist()[0])"
      ],
      "execution_count": 0,
      "outputs": []
    },
    {
      "cell_type": "code",
      "metadata": {
        "colab_type": "code",
        "id": "T9VmfVvk8lmi",
        "outputId": "d99ec7d2-6379-459c-d8d9-01e607dd649b",
        "colab": {
          "base_uri": "https://localhost:8080/",
          "height": 399
        }
      },
      "source": [
        "list(zip(t, preds))"
      ],
      "execution_count": 19,
      "outputs": [
        {
          "output_type": "execute_result",
          "data": {
            "text/plain": [
              "[(b'the', [0.49406933784484863, 0.5059306621551514]),\n",
              " (b'longer', [0.49385687708854675, 0.5061431527137756]),\n",
              " (b'the', [0.49451950192451477, 0.5054804682731628]),\n",
              " (b'movie', [0.49166005849838257, 0.5083400011062622]),\n",
              " (b'goes', [0.4903869032859802, 0.509613037109375]),\n",
              " (b',', [0.43732041120529175, 0.5626795887947083]),\n",
              " (b'the', [0.33485114574432373, 0.6651487946510315]),\n",
              " (b'worse', [0.9999983310699463, 1.6490405414515408e-06]),\n",
              " (b'it', [0.7699010968208313, 0.2300989329814911]),\n",
              " (b'gets', [0.8522055149078369, 0.14779449999332428]),\n",
              " (b',', [0.16093102097511292, 0.8390689492225647]),\n",
              " (b'but', [0.06107287108898163, 0.938927173614502]),\n",
              " (b'it', [0.2142852544784546, 0.7857147455215454]),\n",
              " (b\"'s\", [0.3198399543762207, 0.6801600456237793]),\n",
              " (b'actually', [0.18980059027671814, 0.8101994395256042]),\n",
              " (b'pretty', [0.14130070805549622, 0.8586993217468262]),\n",
              " (b'good', [0.05624309182167053, 0.9437569379806519]),\n",
              " (b'in', [0.667020320892334, 0.33297961950302124]),\n",
              " (b'the', [0.6076814532279968, 0.3923185467720032]),\n",
              " (b'first', [0.39050862193107605, 0.6094914078712463]),\n",
              " (b'few', [0.4416588544845581, 0.5583411455154419]),\n",
              " (b'minutes', [0.5261502861976624, 0.47384968400001526])]"
            ]
          },
          "metadata": {
            "tags": []
          },
          "execution_count": 19
        }
      ]
    }
  ]
}