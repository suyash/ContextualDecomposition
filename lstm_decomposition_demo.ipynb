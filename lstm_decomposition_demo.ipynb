{
  "nbformat": 4,
  "nbformat_minor": 0,
  "metadata": {
    "kernelspec": {
      "name": "python3",
      "display_name": "Python 3"
    },
    "language_info": {
      "codemirror_mode": {
        "name": "ipython",
        "version": 3
      },
      "file_extension": ".py",
      "mimetype": "text/x-python",
      "name": "python",
      "nbconvert_exporter": "python",
      "pygments_lexer": "ipython3",
      "version": "3.6.9"
    },
    "colab": {
      "name": "lstm_decomposition_demo.ipynb",
      "provenance": []
    },
    "accelerator": "GPU"
  },
  "cells": [
    {
      "cell_type": "markdown",
      "metadata": {
        "id": "j7CI8T-Oxv3a",
        "colab_type": "text"
      },
      "source": [
        "### Dependencies"
      ]
    },
    {
      "cell_type": "code",
      "metadata": {
        "id": "1RUl59iOxtSM",
        "colab_type": "code",
        "outputId": "168c2658-f3b6-4c27-9235-a022b70625a3",
        "colab": {
          "base_uri": "https://localhost:8080/",
          "height": 121
        }
      },
      "source": [
        "!git clone \"https://github.com/suyash/ContextualDecomposition.git\" && mv ContextualDecomposition/cd ./cd"
      ],
      "execution_count": 1,
      "outputs": [
        {
          "output_type": "stream",
          "text": [
            "Cloning into 'ContextualDecomposition'...\n",
            "remote: Enumerating objects: 32, done.\u001b[K\n",
            "remote: Counting objects:   3% (1/32)\u001b[K\rremote: Counting objects:   6% (2/32)\u001b[K\rremote: Counting objects:   9% (3/32)\u001b[K\rremote: Counting objects:  12% (4/32)\u001b[K\rremote: Counting objects:  15% (5/32)\u001b[K\rremote: Counting objects:  18% (6/32)\u001b[K\rremote: Counting objects:  21% (7/32)\u001b[K\rremote: Counting objects:  25% (8/32)\u001b[K\rremote: Counting objects:  28% (9/32)\u001b[K\rremote: Counting objects:  31% (10/32)\u001b[K\rremote: Counting objects:  34% (11/32)\u001b[K\rremote: Counting objects:  37% (12/32)\u001b[K\rremote: Counting objects:  40% (13/32)\u001b[K\rremote: Counting objects:  43% (14/32)\u001b[K\rremote: Counting objects:  46% (15/32)\u001b[K\rremote: Counting objects:  50% (16/32)\u001b[K\rremote: Counting objects:  53% (17/32)\u001b[K\rremote: Counting objects:  56% (18/32)\u001b[K\rremote: Counting objects:  59% (19/32)\u001b[K\rremote: Counting objects:  62% (20/32)\u001b[K\rremote: Counting objects:  65% (21/32)\u001b[K\rremote: Counting objects:  68% (22/32)\u001b[K\rremote: Counting objects:  71% (23/32)\u001b[K\rremote: Counting objects:  75% (24/32)\u001b[K\rremote: Counting objects:  78% (25/32)\u001b[K\rremote: Counting objects:  81% (26/32)\u001b[K\rremote: Counting objects:  84% (27/32)\u001b[K\rremote: Counting objects:  87% (28/32)\u001b[K\rremote: Counting objects:  90% (29/32)\u001b[K\rremote: Counting objects:  93% (30/32)\u001b[K\rremote: Counting objects:  96% (31/32)\u001b[K\rremote: Counting objects: 100% (32/32)\u001b[K\rremote: Counting objects: 100% (32/32), done.\u001b[K\n",
            "remote: Compressing objects:   5% (1/20)\u001b[K\rremote: Compressing objects:  10% (2/20)\u001b[K\rremote: Compressing objects:  15% (3/20)\u001b[K\rremote: Compressing objects:  20% (4/20)\u001b[K\rremote: Compressing objects:  25% (5/20)\u001b[K\rremote: Compressing objects:  30% (6/20)\u001b[K\rremote: Compressing objects:  35% (7/20)\u001b[K\rremote: Compressing objects:  40% (8/20)\u001b[K\rremote: Compressing objects:  45% (9/20)\u001b[K\rremote: Compressing objects:  50% (10/20)\u001b[K\rremote: Compressing objects:  55% (11/20)\u001b[K\rremote: Compressing objects:  60% (12/20)\u001b[K\rremote: Compressing objects:  65% (13/20)\u001b[K\rremote: Compressing objects:  70% (14/20)\u001b[K\rremote: Compressing objects:  75% (15/20)\u001b[K\rremote: Compressing objects:  80% (16/20)\u001b[K\rremote: Compressing objects:  85% (17/20)\u001b[K\rremote: Compressing objects:  90% (18/20)\u001b[K\rremote: Compressing objects:  95% (19/20)\u001b[K\rremote: Compressing objects: 100% (20/20)\u001b[K\rremote: Compressing objects: 100% (20/20), done.\u001b[K\n",
            "remote: Total 32 (delta 11), reused 31 (delta 10), pack-reused 0\u001b[K\n",
            "Unpacking objects:   3% (1/32)   \rUnpacking objects:   6% (2/32)   \rUnpacking objects:   9% (3/32)   \rUnpacking objects:  12% (4/32)   \rUnpacking objects:  15% (5/32)   \rUnpacking objects:  18% (6/32)   \rUnpacking objects:  21% (7/32)   \rUnpacking objects:  25% (8/32)   \rUnpacking objects:  28% (9/32)   \rUnpacking objects:  31% (10/32)   \rUnpacking objects:  34% (11/32)   \rUnpacking objects:  37% (12/32)   \rUnpacking objects:  40% (13/32)   \rUnpacking objects:  43% (14/32)   \rUnpacking objects:  46% (15/32)   \rUnpacking objects:  50% (16/32)   \rUnpacking objects:  53% (17/32)   \rUnpacking objects:  56% (18/32)   \rUnpacking objects:  59% (19/32)   \rUnpacking objects:  62% (20/32)   \rUnpacking objects:  65% (21/32)   \rUnpacking objects:  68% (22/32)   \rUnpacking objects:  71% (23/32)   \rUnpacking objects:  75% (24/32)   \rUnpacking objects:  78% (25/32)   \rUnpacking objects:  81% (26/32)   \rUnpacking objects:  84% (27/32)   \rUnpacking objects:  87% (28/32)   \rUnpacking objects:  90% (29/32)   \rUnpacking objects:  93% (30/32)   \rUnpacking objects:  96% (31/32)   \rUnpacking objects: 100% (32/32)   \rUnpacking objects: 100% (32/32), done.\n"
          ],
          "name": "stdout"
        }
      ]
    },
    {
      "cell_type": "code",
      "metadata": {
        "id": "5Q_p9EfZxQpx",
        "colab_type": "code",
        "outputId": "9b909246-1ad4-468f-95b3-92be41993636",
        "colab": {
          "base_uri": "https://localhost:8080/",
          "height": 86
        }
      },
      "source": [
        "!curl -L -o \"job_dir.zip\" \"https://drive.google.com/uc?export=download&id=13Uyub6pPWWS9USmj2WxAilPMoYFQZtCd\" && unzip -q -d \"job_dir\" \"job_dir.zip\""
      ],
      "execution_count": 2,
      "outputs": [
        {
          "output_type": "stream",
          "text": [
            "  % Total    % Received % Xferd  Average Speed   Time    Time     Time  Current\n",
            "                                 Dload  Upload   Total   Spent    Left  Speed\n",
            "100   388    0   388    0     0     77      0 --:--:--  0:00:04 --:--:--   102\n",
            "100 21.6M    0 21.6M    0     0  3960k      0 --:--:--  0:00:05 --:--:--  137M\n"
          ],
          "name": "stdout"
        }
      ]
    },
    {
      "cell_type": "markdown",
      "metadata": {
        "id": "8eZJUKK70evz",
        "colab_type": "text"
      },
      "source": [
        "### Imports"
      ]
    },
    {
      "cell_type": "code",
      "metadata": {
        "id": "ADDYjJZq0rtZ",
        "colab_type": "code",
        "outputId": "d8eb02b3-05d6-4761-a292-5c3405a7e2fc",
        "colab": {
          "base_uri": "https://localhost:8080/",
          "height": 34
        }
      },
      "source": [
        "%tensorflow_version 2.x"
      ],
      "execution_count": 3,
      "outputs": [
        {
          "output_type": "stream",
          "text": [
            "TensorFlow 2.x selected.\n"
          ],
          "name": "stdout"
        }
      ]
    },
    {
      "cell_type": "code",
      "metadata": {
        "id": "wGhV7mrdxBpY",
        "colab_type": "code",
        "colab": {}
      },
      "source": [
        "import numpy as np\n",
        "import tensorflow as tf\n",
        "from tensorflow.keras import Model  # pylint: disable=import-error\n",
        "from tensorflow.keras.layers import Dense, Dropout, Embedding, Input, LSTM  # pylint: disable=import-error\n",
        "import tensorflow_datasets as tfds\n",
        "\n",
        "from cd.cd import lstm_decomposition\n",
        "from cd.lstm import create_table, create_inv_table, preprocess_dataset"
      ],
      "execution_count": 0,
      "outputs": []
    },
    {
      "cell_type": "code",
      "metadata": {
        "id": "aBQ73NDPxBpi",
        "colab_type": "code",
        "outputId": "6095a8fd-9a17-45ad-eab7-8fe1c305e110",
        "colab": {
          "base_uri": "https://localhost:8080/",
          "height": 295
        }
      },
      "source": [
        "model = tf.keras.models.load_model(\"job_dir/saved_model/best\")\n",
        "model.summary()"
      ],
      "execution_count": 5,
      "outputs": [
        {
          "output_type": "stream",
          "text": [
            "Model: \"model\"\n",
            "_________________________________________________________________\n",
            "Layer (type)                 Output Shape              Param #   \n",
            "=================================================================\n",
            "input_1 (InputLayer)         [(None, None)]            0         \n",
            "_________________________________________________________________\n",
            "embedding (Embedding)        (None, None, 128)         1831808   \n",
            "_________________________________________________________________\n",
            "lstm (LSTM)                  (None, 128)               131584    \n",
            "_________________________________________________________________\n",
            "dense (Dense)                (None, 2)                 258       \n",
            "=================================================================\n",
            "Total params: 1,963,650\n",
            "Trainable params: 1,963,650\n",
            "Non-trainable params: 0\n",
            "_________________________________________________________________\n"
          ],
          "name": "stdout"
        }
      ]
    },
    {
      "cell_type": "code",
      "metadata": {
        "id": "eckB_JwkxBps",
        "colab_type": "code",
        "colab": {}
      },
      "source": [
        "tokens = np.load(\"job_dir/tokens.npy\")\n",
        "table = create_table(tokens)\n",
        "inv_table = create_inv_table(tokens)"
      ],
      "execution_count": 0,
      "outputs": []
    },
    {
      "cell_type": "markdown",
      "metadata": {
        "id": "iVFs3an0xBpy",
        "colab_type": "text"
      },
      "source": [
        "### Process Input"
      ]
    },
    {
      "cell_type": "code",
      "metadata": {
        "id": "q8EvMmnqxBp0",
        "colab_type": "code",
        "colab": {}
      },
      "source": [
        "s = \"it 's easy to love robin tunney - she is pretty and she can act - but it gets harder and harder to understand her choices .\""
      ],
      "execution_count": 0,
      "outputs": []
    },
    {
      "cell_type": "code",
      "metadata": {
        "id": "NGgdMoEUxBp7",
        "colab_type": "code",
        "outputId": "5e94f020-ad1b-4dc3-9193-facf79a0c761",
        "colab": {
          "base_uri": "https://localhost:8080/",
          "height": 86
        }
      },
      "source": [
        "inp = table.lookup(tf.constant(s.split()))\n",
        "inp = tf.expand_dims(inp, 0)\n",
        "inp"
      ],
      "execution_count": 8,
      "outputs": [
        {
          "output_type": "execute_result",
          "data": {
            "text/plain": [
              "<tf.Tensor: shape=(1, 27), dtype=int32, numpy=\n",
              "array([[  12,    8,  396,    7,   82, 3814, 5186,  194,  281,    9,  313,\n",
              "           4,  281,   66,  590,  194,   22,   12,  283, 5449,    4, 5449,\n",
              "           7,  683,  115, 2049,    6]], dtype=int32)>"
            ]
          },
          "metadata": {
            "tags": []
          },
          "execution_count": 8
        }
      ]
    },
    {
      "cell_type": "markdown",
      "metadata": {
        "id": "0WX57WJYxBqC",
        "colab_type": "text"
      },
      "source": [
        "### Generate Overall Prediction"
      ]
    },
    {
      "cell_type": "code",
      "metadata": {
        "id": "dYcUo5ntxBqE",
        "colab_type": "code",
        "outputId": "29b665cc-1665-4dfc-967c-9c863b2f1b76",
        "colab": {
          "base_uri": "https://localhost:8080/",
          "height": 34
        }
      },
      "source": [
        "x = model.predict(inp)\n",
        "x = tf.math.softmax(x)\n",
        "x"
      ],
      "execution_count": 9,
      "outputs": [
        {
          "output_type": "execute_result",
          "data": {
            "text/plain": [
              "<tf.Tensor: shape=(1, 2), dtype=float32, numpy=array([[0.8496722 , 0.15032782]], dtype=float32)>"
            ]
          },
          "metadata": {
            "tags": []
          },
          "execution_count": 9
        }
      ]
    },
    {
      "cell_type": "markdown",
      "metadata": {
        "id": "EuK66fAxxBqI",
        "colab_type": "text"
      },
      "source": [
        "$P(neg) = 0.84$, $P(pos) = 0.15$\n",
        "\n",
        "Now, decomposing and getting predictions for subsections"
      ]
    },
    {
      "cell_type": "code",
      "metadata": {
        "id": "N1gvo4A1xBqJ",
        "colab_type": "code",
        "outputId": "b6898ff9-0338-45ab-93e6-b37ce7340eb2",
        "colab": {
          "base_uri": "https://localhost:8080/",
          "height": 486
        }
      },
      "source": [
        "list(enumerate(inv_table.lookup(inp[0]).numpy()))"
      ],
      "execution_count": 10,
      "outputs": [
        {
          "output_type": "execute_result",
          "data": {
            "text/plain": [
              "[(0, b'it'),\n",
              " (1, b\"'s\"),\n",
              " (2, b'easy'),\n",
              " (3, b'to'),\n",
              " (4, b'love'),\n",
              " (5, b'robin'),\n",
              " (6, b'tunney'),\n",
              " (7, b'-'),\n",
              " (8, b'she'),\n",
              " (9, b'is'),\n",
              " (10, b'pretty'),\n",
              " (11, b'and'),\n",
              " (12, b'she'),\n",
              " (13, b'can'),\n",
              " (14, b'act'),\n",
              " (15, b'-'),\n",
              " (16, b'but'),\n",
              " (17, b'it'),\n",
              " (18, b'gets'),\n",
              " (19, b'harder'),\n",
              " (20, b'and'),\n",
              " (21, b'harder'),\n",
              " (22, b'to'),\n",
              " (23, b'understand'),\n",
              " (24, b'her'),\n",
              " (25, b'choices'),\n",
              " (26, b'.')]"
            ]
          },
          "metadata": {
            "tags": []
          },
          "execution_count": 10
        }
      ]
    },
    {
      "cell_type": "markdown",
      "metadata": {
        "id": "hMXxHY4mxBqO",
        "colab_type": "text"
      },
      "source": [
        "#### Prepare the Embedding generator for the input"
      ]
    },
    {
      "cell_type": "code",
      "metadata": {
        "id": "mUb9VwXdxBqR",
        "colab_type": "code",
        "colab": {}
      },
      "source": [
        "def prepare_embedder(embed_dim, vocab_size):\n",
        "    seq = Input((None, ), dtype=\"int32\")\n",
        "    x = Embedding(\n",
        "        vocab_size,\n",
        "        embed_dim,\n",
        "    )(seq)\n",
        "    return tf.keras.Model(seq, x)"
      ],
      "execution_count": 0,
      "outputs": []
    },
    {
      "cell_type": "code",
      "metadata": {
        "id": "8lXmp6clxBqU",
        "colab_type": "code",
        "colab": {}
      },
      "source": [
        "embedder = prepare_embedder(128, 2 + len(tokens))"
      ],
      "execution_count": 0,
      "outputs": []
    },
    {
      "cell_type": "code",
      "metadata": {
        "id": "VQJTPlWqxBqZ",
        "colab_type": "code",
        "colab": {}
      },
      "source": [
        "embedder.set_weights(model.get_weights()[:1])"
      ],
      "execution_count": 0,
      "outputs": []
    },
    {
      "cell_type": "markdown",
      "metadata": {
        "id": "x97SfTKlxBqe",
        "colab_type": "text"
      },
      "source": [
        "### Decomposing the prediction into the prediction for [0..15] and [16..26]"
      ]
    },
    {
      "cell_type": "code",
      "metadata": {
        "id": "6c2JiDkAxBqg",
        "colab_type": "code",
        "colab": {}
      },
      "source": [
        "_, k, rk, b, dw, db = model.weights"
      ],
      "execution_count": 0,
      "outputs": []
    },
    {
      "cell_type": "code",
      "metadata": {
        "id": "UxtXQoMtxBqm",
        "colab_type": "code",
        "colab": {}
      },
      "source": [
        "embed_inp = embedder(inp)"
      ],
      "execution_count": 0,
      "outputs": []
    },
    {
      "cell_type": "code",
      "metadata": {
        "id": "NG-I_V1dxBqq",
        "colab_type": "code",
        "colab": {}
      },
      "source": [
        "pred_0_15, _ = lstm_decomposition(embed_inp, k, rk, b, 0, 15)\n",
        "pred_16_26, _ = lstm_decomposition(embed_inp, k, rk, b, 16, 26)"
      ],
      "execution_count": 0,
      "outputs": []
    },
    {
      "cell_type": "code",
      "metadata": {
        "id": "AAOiY_AaxBqu",
        "colab_type": "code",
        "outputId": "a2664c12-131d-41e0-f6a7-c8c8359152e5",
        "colab": {
          "base_uri": "https://localhost:8080/",
          "height": 34
        }
      },
      "source": [
        "tf.math.softmax(tf.matmul(pred_0_15, dw) + db)"
      ],
      "execution_count": 17,
      "outputs": [
        {
          "output_type": "execute_result",
          "data": {
            "text/plain": [
              "<tf.Tensor: shape=(1, 2), dtype=float32, numpy=array([[0.0050807 , 0.99491924]], dtype=float32)>"
            ]
          },
          "metadata": {
            "tags": []
          },
          "execution_count": 17
        }
      ]
    },
    {
      "cell_type": "code",
      "metadata": {
        "id": "Bd64gk9TxBqz",
        "colab_type": "code",
        "outputId": "937decec-963c-4604-93c0-e3456b1ac668",
        "colab": {
          "base_uri": "https://localhost:8080/",
          "height": 34
        }
      },
      "source": [
        "tf.math.softmax(tf.matmul(pred_16_26, dw) + db)"
      ],
      "execution_count": 18,
      "outputs": [
        {
          "output_type": "execute_result",
          "data": {
            "text/plain": [
              "<tf.Tensor: shape=(1, 2), dtype=float32, numpy=array([[0.99566877, 0.00433128]], dtype=float32)>"
            ]
          },
          "metadata": {
            "tags": []
          },
          "execution_count": 18
        }
      ]
    },
    {
      "cell_type": "markdown",
      "metadata": {
        "id": "AN9S5whwxBq4",
        "colab_type": "text"
      },
      "source": [
        "decomposed prediction for __\"it 's easy to love robin tunney - she is pretty and she can act -\"__: $P(neg) = 0.005, P(pos) = 0.995$\n",
        "\n",
        "decomposed prediction for __\"but it gets harder and harder to understand her choices .\"__: $P(neg) = 0.996, P(pos) = 0.004$"
      ]
    }
  ]
}