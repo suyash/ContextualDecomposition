{
  "nbformat": 4,
  "nbformat_minor": 0,
  "metadata": {
    "kernelspec": {
      "display_name": "Python 3",
      "language": "python",
      "name": "python3"
    },
    "language_info": {
      "codemirror_mode": {
        "name": "ipython",
        "version": 3
      },
      "file_extension": ".py",
      "mimetype": "text/x-python",
      "name": "python",
      "nbconvert_exporter": "python",
      "pygments_lexer": "ipython3",
      "version": "3.6.9"
    },
    "colab": {
      "name": "conv1d_acd_demo.ipynb",
      "provenance": [],
      "collapsed_sections": [
        "7oYOpOfCw_fA"
      ]
    }
  },
  "cells": [
    {
      "cell_type": "markdown",
      "metadata": {
        "id": "7oYOpOfCw_fA",
        "colab_type": "text"
      },
      "source": [
        "### Dependencies"
      ]
    },
    {
      "cell_type": "code",
      "metadata": {
        "id": "-sTWZ1n_xHGd",
        "colab_type": "code",
        "colab": {
          "base_uri": "https://localhost:8080/",
          "height": 121
        },
        "outputId": "b206674a-d08a-49ed-fbe3-9af0ebc63da0"
      },
      "source": [
        "!git clone \"https://github.com/suyash/ContextualDecomposition.git\" && mv ContextualDecomposition/cd ./cd"
      ],
      "execution_count": 1,
      "outputs": [
        {
          "output_type": "stream",
          "text": [
            "Cloning into 'ContextualDecomposition'...\n",
            "remote: Enumerating objects: 90, done.\u001b[K\n",
            "remote: Counting objects: 100% (90/90), done.\u001b[K\n",
            "remote: Compressing objects: 100% (45/45), done.\u001b[K\n",
            "remote: Total 90 (delta 45), reused 87 (delta 42), pack-reused 0\u001b[K\n",
            "Unpacking objects: 100% (90/90), done.\n"
          ],
          "name": "stdout"
        }
      ]
    },
    {
      "cell_type": "code",
      "metadata": {
        "id": "BBM9_lAlxJ2M",
        "colab_type": "code",
        "colab": {
          "base_uri": "https://localhost:8080/",
          "height": 0
        },
        "outputId": "c90791c6-30dc-4dbf-9653-41b5b4a719b2"
      },
      "source": [
        "!curl -L -o \"job_dir.zip\" \"https://drive.google.com/uc?export=download&id=1wkygiEOc2T9LFbD4fcO__9tXGVkxu0qu\" && unzip -q -d \"job_dir\" \"job_dir.zip\""
      ],
      "execution_count": 2,
      "outputs": [
        {
          "output_type": "stream",
          "text": [
            "  % Total    % Received % Xferd  Average Speed   Time    Time     Time  Current\n",
            "                                 Dload  Upload   Total   Spent    Left  Speed\n",
            "100   388    0   388    0     0    204      0 --:--:--  0:00:01 --:--:--   204\n",
            "100 11.0M    0 11.0M    0     0  4318k      0 --:--:--  0:00:02 --:--:-- 4318k\n"
          ],
          "name": "stdout"
        }
      ]
    },
    {
      "cell_type": "markdown",
      "metadata": {
        "id": "ymsKlQ68xFqe",
        "colab_type": "text"
      },
      "source": [
        "### Imports"
      ]
    },
    {
      "cell_type": "code",
      "metadata": {
        "id": "rpVb6q1cxggH",
        "colab_type": "code",
        "colab": {
          "base_uri": "https://localhost:8080/",
          "height": 34
        },
        "outputId": "5c24c596-9588-4f48-c643-ef55654d3156"
      },
      "source": [
        "%tensorflow_version 2.x"
      ],
      "execution_count": 3,
      "outputs": [
        {
          "output_type": "stream",
          "text": [
            "TensorFlow 2.x selected.\n"
          ],
          "name": "stdout"
        }
      ]
    },
    {
      "cell_type": "code",
      "metadata": {
        "id": "Vf2xLbFgweTn",
        "colab_type": "code",
        "colab": {}
      },
      "source": [
        "import numpy as np\n",
        "import tensorflow as tf\n",
        "\n",
        "from cd.acd import conv1d_acd_decomposition, agglomerate_acd_1d_decomposition\n",
        "from cd.preprocess import create_table, create_inv_table"
      ],
      "execution_count": 0,
      "outputs": []
    },
    {
      "cell_type": "code",
      "metadata": {
        "id": "4jAZ6QcZweUG",
        "colab_type": "code",
        "colab": {
          "base_uri": "https://localhost:8080/",
          "height": 764
        },
        "outputId": "5c78d025-ea47-4088-aad4-0e51fb6f2e4b"
      },
      "source": [
        "model = tf.keras.models.load_model(\"job_dir/saved_model/best\")\n",
        "model.summary()"
      ],
      "execution_count": 5,
      "outputs": [
        {
          "output_type": "stream",
          "text": [
            "Model: \"model\"\n",
            "__________________________________________________________________________________________________\n",
            "Layer (type)                    Output Shape         Param #     Connected to                     \n",
            "==================================================================================================\n",
            "input_1 (InputLayer)            [(None, None)]       0                                            \n",
            "__________________________________________________________________________________________________\n",
            "embedding (Embedding)           (None, None, 64)     915904      input_1[0][0]                    \n",
            "__________________________________________________________________________________________________\n",
            "conv1d (Conv1D)                 (None, None, 256)    33024       embedding[0][0]                  \n",
            "__________________________________________________________________________________________________\n",
            "conv1d_1 (Conv1D)               (None, None, 128)    24704       embedding[0][0]                  \n",
            "__________________________________________________________________________________________________\n",
            "conv1d_2 (Conv1D)               (None, None, 64)     16448       embedding[0][0]                  \n",
            "__________________________________________________________________________________________________\n",
            "conv1d_3 (Conv1D)               (None, None, 32)     10272       embedding[0][0]                  \n",
            "__________________________________________________________________________________________________\n",
            "tanh_0 (Activation)             (None, None, 256)    0           conv1d[0][0]                     \n",
            "__________________________________________________________________________________________________\n",
            "tanh_1 (Activation)             (None, None, 128)    0           conv1d_1[0][0]                   \n",
            "__________________________________________________________________________________________________\n",
            "tanh_2 (Activation)             (None, None, 64)     0           conv1d_2[0][0]                   \n",
            "__________________________________________________________________________________________________\n",
            "tanh_3 (Activation)             (None, None, 32)     0           conv1d_3[0][0]                   \n",
            "__________________________________________________________________________________________________\n",
            "global_max_pooling1d (GlobalMax (None, 256)          0           tanh_0[0][0]                     \n",
            "__________________________________________________________________________________________________\n",
            "global_max_pooling1d_1 (GlobalM (None, 128)          0           tanh_1[0][0]                     \n",
            "__________________________________________________________________________________________________\n",
            "global_max_pooling1d_2 (GlobalM (None, 64)           0           tanh_2[0][0]                     \n",
            "__________________________________________________________________________________________________\n",
            "global_max_pooling1d_3 (GlobalM (None, 32)           0           tanh_3[0][0]                     \n",
            "__________________________________________________________________________________________________\n",
            "concatenate (Concatenate)       (None, 480)          0           global_max_pooling1d[0][0]       \n",
            "                                                                 global_max_pooling1d_1[0][0]     \n",
            "                                                                 global_max_pooling1d_2[0][0]     \n",
            "                                                                 global_max_pooling1d_3[0][0]     \n",
            "__________________________________________________________________________________________________\n",
            "dense (Dense)                   (None, 2)            962         concatenate[0][0]                \n",
            "==================================================================================================\n",
            "Total params: 1,001,314\n",
            "Trainable params: 1,001,314\n",
            "Non-trainable params: 0\n",
            "__________________________________________________________________________________________________\n"
          ],
          "name": "stdout"
        }
      ]
    },
    {
      "cell_type": "code",
      "metadata": {
        "id": "yeTrXakqweUZ",
        "colab_type": "code",
        "colab": {}
      },
      "source": [
        "tokens = np.load(\"job_dir/tokens.npy\")\n",
        "table = create_table(tokens)\n",
        "inv_table = create_inv_table(tokens)"
      ],
      "execution_count": 0,
      "outputs": []
    },
    {
      "cell_type": "code",
      "metadata": {
        "id": "cF8T2U9HweUp",
        "colab_type": "code",
        "colab": {}
      },
      "source": [
        "s = \"the longer the movie goes , the worse it gets , but it 's actually pretty good in the first few minutes .\""
      ],
      "execution_count": 0,
      "outputs": []
    },
    {
      "cell_type": "code",
      "metadata": {
        "id": "6QeYmnjwweU5",
        "colab_type": "code",
        "colab": {}
      },
      "source": [
        "text = s.split()"
      ],
      "execution_count": 0,
      "outputs": []
    },
    {
      "cell_type": "code",
      "metadata": {
        "id": "UYo-a3osweVF",
        "colab_type": "code",
        "colab": {
          "base_uri": "https://localhost:8080/",
          "height": 86
        },
        "outputId": "44669a17-2ae3-4bb0-a8f2-80f03a675f68"
      },
      "source": [
        "inp = table.lookup(tf.constant(s.split()))\n",
        "inp = tf.expand_dims(inp, 0)\n",
        "inp"
      ],
      "execution_count": 9,
      "outputs": [
        {
          "output_type": "execute_result",
          "data": {
            "text/plain": [
              "<tf.Tensor: shape=(1, 23), dtype=int32, numpy=\n",
              "array([[   1, 1752,    1,   19,  336,    2,    1,  552,   12,  283,    2,\n",
              "          22,   12,    8,  301,  313,   46,   11,    1,  167,  169,  164,\n",
              "           6]], dtype=int32)>"
            ]
          },
          "metadata": {
            "tags": []
          },
          "execution_count": 9
        }
      ]
    },
    {
      "cell_type": "code",
      "metadata": {
        "id": "O2o2tqfGweVO",
        "colab_type": "code",
        "colab": {
          "base_uri": "https://localhost:8080/",
          "height": 156
        },
        "outputId": "4380a94a-5d41-439b-e544-2884b87eaa43"
      },
      "source": [
        "comps, comp_scores = conv1d_acd_decomposition(inp, model)"
      ],
      "execution_count": 10,
      "outputs": [
        {
          "output_type": "stream",
          "text": [
            "/content/cd/acd.py:29: RuntimeWarning: invalid value encountered in greater\n",
            "  return a > np.nanpercentile(a, 99.5)\n",
            "/content/cd/acd.py:15: RuntimeWarning: invalid value encountered in greater\n",
            "  return a > np.nanpercentile(a, 59)\n",
            "/content/cd/acd.py:21: RuntimeWarning: invalid value encountered in greater\n",
            "  return a > np.nanpercentile(a, 59)\n",
            "/content/cd/acd.py:24: RuntimeWarning: invalid value encountered in greater\n",
            "  return a > np.nanpercentile(a, 49)\n"
          ],
          "name": "stderr"
        }
      ]
    },
    {
      "cell_type": "code",
      "metadata": {
        "id": "GJn0gRUUweVV",
        "colab_type": "code",
        "colab": {}
      },
      "source": [
        "tree = agglomerate_acd_1d_decomposition(comps, comp_scores)"
      ],
      "execution_count": 0,
      "outputs": []
    },
    {
      "cell_type": "code",
      "metadata": {
        "id": "IlfARJPyweVe",
        "colab_type": "code",
        "colab": {
          "base_uri": "https://localhost:8080/",
          "height": 1000
        },
        "outputId": "c96f4e50-e40d-4469-e846-a5986facbb04"
      },
      "source": [
        "for i, l in enumerate(tree):\n",
        "    print(\"Level\", i)\n",
        "\n",
        "    for s in l:\n",
        "        print(\" \".join(text[s[0][0]:s[0][1]]), \":\", s[1], \", children:\", s[2])\n",
        "\n",
        "    print(\"--------------------------------------------------------\")"
      ],
      "execution_count": 12,
      "outputs": [
        {
          "output_type": "stream",
          "text": [
            "Level 0\n",
            "the : 0.023723755031824112 , children: []\n",
            "longer : 0.024546079337596893 , children: []\n",
            "the : 0.021861907094717026 , children: []\n",
            "movie : 0.033330559730529785 , children: []\n",
            "goes : 0.03823969513177872 , children: []\n",
            ", : 0.2517704367637634 , children: []\n",
            "the : 0.5991467237472534 , children: []\n",
            "worse : -13.187629699707031 , children: []\n",
            "it : -1.280884027481079 , children: []\n",
            "gets : -1.7463042736053467 , children: []\n",
            ", : 1.6393227577209473 , children: []\n",
            "but : 2.7335333824157715 , children: []\n",
            "it : 1.299285650253296 , children: []\n",
            "'s : 0.7545077204704285 , children: []\n",
            "actually : 1.4517323970794678 , children: []\n",
            "pretty : 1.8054380416870117 , children: []\n",
            "good : 2.471308946609497 , children: []\n",
            "in : -0.6136900782585144 , children: []\n",
            "the : -0.2862776219844818 , children: []\n",
            "first : 0.9100427627563477 , children: []\n",
            "few : 0.1771470606327057 , children: []\n",
            "minutes : -0.024332180619239807 , children: []\n",
            ". : 0.04344141483306885 , children: []\n",
            "--------------------------------------------------------\n",
            "Level 1\n",
            "pretty good : 4.246434 , children: [(15, 16), (16, 17)]\n",
            "gets , but : 2.351562 , children: [(9, 10), (10, 11), (11, 12)]\n",
            "the longer : 0.02454608 , children: []\n",
            "--------------------------------------------------------\n",
            "Level 2\n",
            "worse it gets , but : -12.032783 , children: [(7, 8), (8, 9), (9, 12)]\n",
            "actually pretty good : 5.633516 , children: [(14, 15), (15, 17)]\n",
            "--------------------------------------------------------\n",
            "Level 3\n",
            "worse it gets , but it : -10.9430065 , children: [(7, 12), (12, 13)]\n",
            "actually pretty good in : 5.005173 , children: [(14, 17), (17, 18)]\n",
            "--------------------------------------------------------\n",
            "Level 4\n",
            "the worse it gets , but it : -10.378464 , children: [(6, 7), (7, 13)]\n",
            "--------------------------------------------------------\n",
            "Level 5\n",
            "the worse it gets , but it 's actually pretty good in : -4.8631163 , children: [(6, 13), (13, 14), (14, 18)]\n",
            "--------------------------------------------------------\n",
            "Level 6\n",
            "the worse it gets , but it 's actually pretty good in the first : -4.2719126 , children: [(6, 18), (18, 19), (19, 20)]\n",
            "--------------------------------------------------------\n",
            "Level 7\n",
            ", the worse it gets , but it 's actually pretty good in the first : -4.049589 , children: [(5, 6), (6, 20)]\n",
            "--------------------------------------------------------\n",
            "Level 8\n",
            ", the worse it gets , but it 's actually pretty good in the first few : -3.875327 , children: [(5, 20), (20, 21)]\n",
            "--------------------------------------------------------\n",
            "Level 9\n",
            ", the worse it gets , but it 's actually pretty good in the first few minutes : -3.9640973 , children: [(5, 21), (21, 22)]\n",
            "--------------------------------------------------------\n",
            "Level 10\n",
            "movie goes , the worse it gets , but it 's actually pretty good in the first few minutes : -3.9363852 , children: [(3, 4), (4, 5), (5, 22)]\n",
            "--------------------------------------------------------\n",
            "Level 11\n",
            "movie goes , the worse it gets , but it 's actually pretty good in the first few minutes . : -3.9398203 , children: [(3, 22), (22, 23)]\n",
            "--------------------------------------------------------\n",
            "Level 12\n",
            "the longer the movie goes , the worse it gets , but it 's actually pretty good in the first few minutes . : -3.9415922 , children: [(0, 2), (2, 3), (3, 23)]\n",
            "--------------------------------------------------------\n"
          ],
          "name": "stdout"
        }
      ]
    }
  ]
}