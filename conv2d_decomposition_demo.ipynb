{
  "nbformat": 4,
  "nbformat_minor": 0,
  "metadata": {
    "kernelspec": {
      "display_name": "Python 3",
      "language": "python",
      "name": "python3"
    },
    "language_info": {
      "codemirror_mode": {
        "name": "ipython",
        "version": 3
      },
      "file_extension": ".py",
      "mimetype": "text/x-python",
      "name": "python",
      "nbconvert_exporter": "python",
      "pygments_lexer": "ipython3",
      "version": "3.6.9"
    },
    "colab": {
      "name": "conv2d_decomposition_demo.ipynb",
      "provenance": [],
      "collapsed_sections": [
        "S5JV4MuRypJ9"
      ]
    }
  },
  "cells": [
    {
      "cell_type": "markdown",
      "metadata": {
        "id": "S5JV4MuRypJ9",
        "colab_type": "text"
      },
      "source": [
        "### Dependencies"
      ]
    },
    {
      "cell_type": "code",
      "metadata": {
        "id": "VAcLl9XuytDY",
        "colab_type": "code",
        "colab": {
          "base_uri": "https://localhost:8080/",
          "height": 121
        },
        "outputId": "ce012de1-7058-4e6c-bfee-2c1a52105292"
      },
      "source": [
        "!git clone \"https://github.com/suyash/ContextualDecomposition.git\" && mv ContextualDecomposition/cd ./cd"
      ],
      "execution_count": 1,
      "outputs": [
        {
          "output_type": "stream",
          "text": [
            "Cloning into 'ContextualDecomposition'...\n",
            "remote: Enumerating objects: 94, done.\u001b[K\n",
            "remote: Counting objects: 100% (94/94), done.\u001b[K\n",
            "remote: Compressing objects: 100% (47/47), done.\u001b[K\n",
            "remote: Total 94 (delta 48), reused 90 (delta 44), pack-reused 0\u001b[K\n",
            "Unpacking objects: 100% (94/94), done.\n"
          ],
          "name": "stdout"
        }
      ]
    },
    {
      "cell_type": "code",
      "metadata": {
        "id": "saxDcAZ3yvDH",
        "colab_type": "code",
        "colab": {
          "base_uri": "https://localhost:8080/",
          "height": 86
        },
        "outputId": "2c693b71-2233-48cb-92bd-6ac9e9beba6d"
      },
      "source": [
        "!curl -L -o \"job_dir.zip\" \"https://drive.google.com/uc?export=download&id=1HbsiEE0LOTMzgxUfxSSYPxmR4raq3hzK\" && unzip -q -d \"job_dir\" \"job_dir.zip\""
      ],
      "execution_count": 2,
      "outputs": [
        {
          "output_type": "stream",
          "text": [
            "  % Total    % Received % Xferd  Average Speed   Time    Time     Time  Current\n",
            "                                 Dload  Upload   Total   Spent    Left  Speed\n",
            "100   388    0   388    0     0    653      0 --:--:-- --:--:-- --:--:--   653\n",
            "100  381k  100  381k    0     0   390k      0 --:--:-- --:--:-- --:--:--  186M\n"
          ],
          "name": "stdout"
        }
      ]
    },
    {
      "cell_type": "markdown",
      "metadata": {
        "id": "O_K_KDh9yrIW",
        "colab_type": "text"
      },
      "source": [
        "### Imports"
      ]
    },
    {
      "cell_type": "code",
      "metadata": {
        "id": "8xaIx_AizYng",
        "colab_type": "code",
        "colab": {
          "base_uri": "https://localhost:8080/",
          "height": 34
        },
        "outputId": "a500aa0d-291b-4692-cf32-7b95de850d47"
      },
      "source": [
        "%tensorflow_version 2.x"
      ],
      "execution_count": 3,
      "outputs": [
        {
          "output_type": "stream",
          "text": [
            "TensorFlow 2.x selected.\n"
          ],
          "name": "stdout"
        }
      ]
    },
    {
      "cell_type": "code",
      "metadata": {
        "id": "06DOFd3Byitc",
        "colab_type": "code",
        "colab": {}
      },
      "source": [
        "from matplotlib import pyplot as plt\n",
        "import numpy as np\n",
        "import tensorflow as tf\n",
        "import tensorflow_datasets as tfds\n",
        "\n",
        "from cd.conv_2d import prepare_decomp_model, prepare_dataset"
      ],
      "execution_count": 0,
      "outputs": []
    },
    {
      "cell_type": "markdown",
      "metadata": {
        "id": "s-pht8P5yitv",
        "colab_type": "text"
      },
      "source": [
        "### Load Test Dataset"
      ]
    },
    {
      "cell_type": "code",
      "metadata": {
        "id": "tSVAGRQUyit2",
        "colab_type": "code",
        "colab": {}
      },
      "source": [
        "test_data = tfds.load(\"mnist\", split=tfds.Split.TEST, as_supervised=True, data_dir=\"gs://tfds-data/datasets\")"
      ],
      "execution_count": 0,
      "outputs": []
    },
    {
      "cell_type": "code",
      "metadata": {
        "id": "n_xZLk_GyiuC",
        "colab_type": "code",
        "colab": {}
      },
      "source": [
        "test_data = prepare_dataset(test_data)"
      ],
      "execution_count": 0,
      "outputs": []
    },
    {
      "cell_type": "code",
      "metadata": {
        "id": "RgNv_6i1yiuN",
        "colab_type": "code",
        "colab": {}
      },
      "source": [
        "test_data = test_data.batch(1)"
      ],
      "execution_count": 0,
      "outputs": []
    },
    {
      "cell_type": "markdown",
      "metadata": {
        "id": "P7-SCv7byiuW",
        "colab_type": "text"
      },
      "source": [
        "### Create a copy of model that supports decomposed inputs\n",
        "\n",
        "The trained model being used here has 32,394 parameters, with a test accuracy of 99.09%\n",
        "\n",
        "In order to verify, run\n",
        "\n",
        "```\n",
        "saved_model.evaluate(test_data)\n",
        "```"
      ]
    },
    {
      "cell_type": "code",
      "metadata": {
        "id": "hwAEdbYkyiuZ",
        "colab_type": "code",
        "colab": {}
      },
      "source": [
        "saved_model = tf.keras.models.load_model(\"job_dir/saved_model\")"
      ],
      "execution_count": 0,
      "outputs": []
    },
    {
      "cell_type": "code",
      "metadata": {
        "id": "UqQavoBvyiuj",
        "colab_type": "code",
        "colab": {}
      },
      "source": [
        "model = prepare_decomp_model()"
      ],
      "execution_count": 0,
      "outputs": []
    },
    {
      "cell_type": "code",
      "metadata": {
        "id": "4uXoXBbJyiuq",
        "colab_type": "code",
        "colab": {}
      },
      "source": [
        "model.set_weights(saved_model.get_weights())"
      ],
      "execution_count": 0,
      "outputs": []
    },
    {
      "cell_type": "code",
      "metadata": {
        "id": "yFtLz4Y5yiuy",
        "colab_type": "code",
        "colab": {
          "base_uri": "https://localhost:8080/",
          "height": 816
        },
        "outputId": "764a9662-1d73-44ad-9db5-af2e7c01c26f"
      },
      "source": [
        "model.summary()"
      ],
      "execution_count": 11,
      "outputs": [
        {
          "output_type": "stream",
          "text": [
            "Model: \"model\"\n",
            "__________________________________________________________________________________________________\n",
            "Layer (type)                    Output Shape         Param #     Connected to                     \n",
            "==================================================================================================\n",
            "rel (InputLayer)                [(None, 28, 28, 1)]  0                                            \n",
            "__________________________________________________________________________________________________\n",
            "irrel (InputLayer)              [(None, 28, 28, 1)]  0                                            \n",
            "__________________________________________________________________________________________________\n",
            "conv2d (Conv2D)                 ((None, 24, 24, 16), 416         rel[0][0]                        \n",
            "                                                                 irrel[0][0]                      \n",
            "__________________________________________________________________________________________________\n",
            "activation (Activation)         ((None, 24, 24, 16), 0           conv2d[0][0]                     \n",
            "                                                                 conv2d[0][1]                     \n",
            "__________________________________________________________________________________________________\n",
            "max_pool2d (MaxPool2D)          ((None, 12, 12, 16), 0           activation[0][0]                 \n",
            "                                                                 activation[0][1]                 \n",
            "__________________________________________________________________________________________________\n",
            "conv2d_1 (Conv2D)               ((None, 8, 8, 32), ( 12832       max_pool2d[0][0]                 \n",
            "                                                                 max_pool2d[0][1]                 \n",
            "__________________________________________________________________________________________________\n",
            "activation_1 (Activation)       ((None, 8, 8, 32), ( 0           conv2d_1[0][0]                   \n",
            "                                                                 conv2d_1[0][1]                   \n",
            "__________________________________________________________________________________________________\n",
            "max_pool2d_1 (MaxPool2D)        ((None, 4, 4, 32), ( 0           activation_1[0][0]               \n",
            "                                                                 activation_1[0][1]               \n",
            "__________________________________________________________________________________________________\n",
            "conv2d_2 (Conv2D)               ((None, 2, 2, 64), ( 18496       max_pool2d_1[0][0]               \n",
            "                                                                 max_pool2d_1[0][1]               \n",
            "__________________________________________________________________________________________________\n",
            "activation_2 (Activation)       ((None, 2, 2, 64), ( 0           conv2d_2[0][0]                   \n",
            "                                                                 conv2d_2[0][1]                   \n",
            "__________________________________________________________________________________________________\n",
            "max_pool2d_2 (MaxPool2D)        ((None, 1, 1, 64), ( 0           activation_2[0][0]               \n",
            "                                                                 activation_2[0][1]               \n",
            "__________________________________________________________________________________________________\n",
            "flatten (Flatten)               (None, 64)           0           max_pool2d_2[0][0]               \n",
            "__________________________________________________________________________________________________\n",
            "flatten_1 (Flatten)             (None, 64)           0           max_pool2d_2[0][1]               \n",
            "__________________________________________________________________________________________________\n",
            "dense (Dense)                   ((None, 10), (None,  650         flatten[0][0]                    \n",
            "                                                                 flatten_1[0][0]                  \n",
            "==================================================================================================\n",
            "Total params: 32,394\n",
            "Trainable params: 32,394\n",
            "Non-trainable params: 0\n",
            "__________________________________________________________________________________________________\n"
          ],
          "name": "stdout"
        }
      ]
    },
    {
      "cell_type": "markdown",
      "metadata": {
        "id": "vEaMuUENyiu-",
        "colab_type": "text"
      },
      "source": [
        "### Using the first item in the test set"
      ]
    },
    {
      "cell_type": "code",
      "metadata": {
        "id": "kvuN--_vyivB",
        "colab_type": "code",
        "colab": {}
      },
      "source": [
        "img, label = next(iter(test_data))"
      ],
      "execution_count": 0,
      "outputs": []
    },
    {
      "cell_type": "code",
      "metadata": {
        "id": "xocdLjLwyivI",
        "colab_type": "code",
        "colab": {}
      },
      "source": [
        "img, label = img.numpy(), label.numpy()"
      ],
      "execution_count": 0,
      "outputs": []
    },
    {
      "cell_type": "code",
      "metadata": {
        "id": "DEigsfodyivR",
        "colab_type": "code",
        "colab": {
          "base_uri": "https://localhost:8080/",
          "height": 282
        },
        "outputId": "bf4f87ec-eea1-4764-a78b-034e7d58d131"
      },
      "source": [
        "plt.imshow(img.reshape((28, 28)), cmap=\"Greys\")"
      ],
      "execution_count": 14,
      "outputs": [
        {
          "output_type": "execute_result",
          "data": {
            "text/plain": [
              "<matplotlib.image.AxesImage at 0x7fc34faf30b8>"
            ]
          },
          "metadata": {
            "tags": []
          },
          "execution_count": 14
        },
        {
          "output_type": "display_data",
          "data": {
            "image/png": "[encoded data removed]",
            "text/plain": [
              "<Figure size 432x288 with 1 Axes>"
            ]
          },
          "metadata": {
            "tags": []
          }
        }
      ]
    },
    {
      "cell_type": "code",
      "metadata": {
        "id": "-bFHIk8SyivY",
        "colab_type": "code",
        "colab": {
          "base_uri": "https://localhost:8080/",
          "height": 34
        },
        "outputId": "987f2a6d-2b3b-4842-af01-1963ba957725"
      },
      "source": [
        "logits = saved_model.predict(img)\n",
        "logits.argmax(axis=1)"
      ],
      "execution_count": 15,
      "outputs": [
        {
          "output_type": "execute_result",
          "data": {
            "text/plain": [
              "array([2])"
            ]
          },
          "metadata": {
            "tags": []
          },
          "execution_count": 15
        }
      ]
    },
    {
      "cell_type": "code",
      "metadata": {
        "id": "_7aKRTtQyivf",
        "colab_type": "code",
        "colab": {
          "base_uri": "https://localhost:8080/",
          "height": 34
        },
        "outputId": "d355f50e-3c50-43f7-a6f6-fd9565634ef4"
      },
      "source": [
        "label"
      ],
      "execution_count": 16,
      "outputs": [
        {
          "output_type": "execute_result",
          "data": {
            "text/plain": [
              "array([2])"
            ]
          },
          "metadata": {
            "tags": []
          },
          "execution_count": 16
        }
      ]
    },
    {
      "cell_type": "code",
      "metadata": {
        "id": "_oOrREjOyivm",
        "colab_type": "code",
        "colab": {}
      },
      "source": [
        "def generate_importance_weights(d):\n",
        "    weights = np.zeros((1, 28, 28, 1))\n",
        "\n",
        "    r = 0\n",
        "    while r < 28:\n",
        "        c = 0\n",
        "        while c < 28:\n",
        "            rel = np.zeros((1, 28, 28, 1))\n",
        "            rel[:, r:(r+d), c:(c+d), :] += img[:, r:(r+d), c:(c+d), :]\n",
        "\n",
        "            irrel = img.copy()\n",
        "            irrel[:, r:(r+d), c:(c+d), :] *= 0\n",
        "\n",
        "            np.testing.assert_equal(img, rel + irrel)\n",
        "\n",
        "            logits_rel, _ = model.predict([rel, irrel])\n",
        "\n",
        "            weights[:, r:(r+d), c:(c+d), :] += logits_rel[0, label]\n",
        "\n",
        "            c += d\n",
        "        r += d\n",
        "        \n",
        "    return weights"
      ],
      "execution_count": 0,
      "outputs": []
    },
    {
      "cell_type": "markdown",
      "metadata": {
        "id": "rJKY0PO4yivs",
        "colab_type": "text"
      },
      "source": [
        "Instead of visualizing raw logit values, we take a softmax over the entire map for the image, in order to get an importance map similar to what attention produces, for each pixel in the image."
      ]
    },
    {
      "cell_type": "code",
      "metadata": {
        "id": "43AFjovAyivv",
        "colab_type": "code",
        "colab": {}
      },
      "source": [
        "sf = generate_importance_weights(1)"
      ],
      "execution_count": 0,
      "outputs": []
    },
    {
      "cell_type": "code",
      "metadata": {
        "id": "QrmFrnvNyivz",
        "colab_type": "code",
        "colab": {
          "base_uri": "https://localhost:8080/",
          "height": 282
        },
        "outputId": "555b8aca-fdea-413c-cf4c-df43d72c7dd9"
      },
      "source": [
        "fig, ax = plt.subplots()\n",
        "im = ax.imshow(sf.reshape(28, 28), cmap=\"Blues\")\n",
        "fig.colorbar(mappable=im, ax=ax)"
      ],
      "execution_count": 19,
      "outputs": [
        {
          "output_type": "execute_result",
          "data": {
            "text/plain": [
              "<matplotlib.colorbar.Colorbar at 0x7fc34c00ff60>"
            ]
          },
          "metadata": {
            "tags": []
          },
          "execution_count": 19
        },
        {
          "output_type": "display_data",
          "data": {
            "image/png": "[encoded data removed]",
            "text/plain": [
              "<Figure size 432x288 with 2 Axes>"
            ]
          },
          "metadata": {
            "tags": []
          }
        }
      ]
    },
    {
      "cell_type": "code",
      "metadata": {
        "id": "bXYVTs2_yiv8",
        "colab_type": "code",
        "colab": {}
      },
      "source": [
        "sf = generate_importance_weights(2)"
      ],
      "execution_count": 0,
      "outputs": []
    },
    {
      "cell_type": "code",
      "metadata": {
        "id": "r2BwTVFuyiwC",
        "colab_type": "code",
        "colab": {
          "base_uri": "https://localhost:8080/",
          "height": 282
        },
        "outputId": "e55c5af0-da47-4572-844e-401661f788de"
      },
      "source": [
        "fig, ax = plt.subplots()\n",
        "im = ax.imshow(sf.reshape(28, 28), cmap=\"Blues\")\n",
        "fig.colorbar(mappable=im, ax=ax)"
      ],
      "execution_count": 21,
      "outputs": [
        {
          "output_type": "execute_result",
          "data": {
            "text/plain": [
              "<matplotlib.colorbar.Colorbar at 0x7fc34b88f240>"
            ]
          },
          "metadata": {
            "tags": []
          },
          "execution_count": 21
        },
        {
          "output_type": "display_data",
          "data": {
            "image/png": "[encoded data removed]",
            "text/plain": [
              "<Figure size 432x288 with 2 Axes>"
            ]
          },
          "metadata": {
            "tags": []
          }
        }
      ]
    },
    {
      "cell_type": "code",
      "metadata": {
        "id": "Ex7ccahxyiwJ",
        "colab_type": "code",
        "colab": {}
      },
      "source": [
        "sf = generate_importance_weights(4)"
      ],
      "execution_count": 0,
      "outputs": []
    },
    {
      "cell_type": "code",
      "metadata": {
        "id": "h2nKIPb4yiwQ",
        "colab_type": "code",
        "colab": {
          "base_uri": "https://localhost:8080/",
          "height": 286
        },
        "outputId": "985c5a8c-8a57-400a-fcf5-79c3a7f65e9f"
      },
      "source": [
        "fig, ax = plt.subplots()\n",
        "im = ax.imshow(sf.reshape(28, 28), cmap=\"Blues\")\n",
        "fig.colorbar(mappable=im, ax=ax)"
      ],
      "execution_count": 23,
      "outputs": [
        {
          "output_type": "execute_result",
          "data": {
            "text/plain": [
              "<matplotlib.colorbar.Colorbar at 0x7fc34bc9d240>"
            ]
          },
          "metadata": {
            "tags": []
          },
          "execution_count": 23
        },
        {
          "output_type": "display_data",
          "data": {
            "image/png": "[encoded data removed]",
            "text/plain": [
              "<Figure size 432x288 with 2 Axes>"
            ]
          },
          "metadata": {
            "tags": []
          }
        }
      ]
    },
    {
      "cell_type": "code",
      "metadata": {
        "id": "8St-V69ayiwY",
        "colab_type": "code",
        "colab": {}
      },
      "source": [
        "sf = generate_importance_weights(6)"
      ],
      "execution_count": 0,
      "outputs": []
    },
    {
      "cell_type": "code",
      "metadata": {
        "id": "nl189T51yiwh",
        "colab_type": "code",
        "colab": {
          "base_uri": "https://localhost:8080/",
          "height": 282
        },
        "outputId": "848815f3-d57e-4408-8855-b93410d8b46f"
      },
      "source": [
        "fig, ax = plt.subplots()\n",
        "im = ax.imshow(sf.reshape(28, 28), cmap=\"Blues\")\n",
        "fig.colorbar(mappable=im, ax=ax)"
      ],
      "execution_count": 25,
      "outputs": [
        {
          "output_type": "execute_result",
          "data": {
            "text/plain": [
              "<matplotlib.colorbar.Colorbar at 0x7fc34bcc7940>"
            ]
          },
          "metadata": {
            "tags": []
          },
          "execution_count": 25
        },
        {
          "output_type": "display_data",
          "data": {
            "image/png": "[encoded data removed]",
            "text/plain": [
              "<Figure size 432x288 with 2 Axes>"
            ]
          },
          "metadata": {
            "tags": []
          }
        }
      ]
    },
    {
      "cell_type": "code",
      "metadata": {
        "id": "Ke7Tng2eyiwp",
        "colab_type": "code",
        "colab": {}
      },
      "source": [
        "sf = generate_importance_weights(8)"
      ],
      "execution_count": 0,
      "outputs": []
    },
    {
      "cell_type": "code",
      "metadata": {
        "id": "_aeUi088yiwz",
        "colab_type": "code",
        "colab": {
          "base_uri": "https://localhost:8080/",
          "height": 282
        },
        "outputId": "4eeb701a-f3ea-46fd-92e1-0131afb6afa6"
      },
      "source": [
        "fig, ax = plt.subplots()\n",
        "im = ax.imshow(sf.reshape(28, 28), cmap=\"Blues\")\n",
        "fig.colorbar(mappable=im, ax=ax)"
      ],
      "execution_count": 27,
      "outputs": [
        {
          "output_type": "execute_result",
          "data": {
            "text/plain": [
              "<matplotlib.colorbar.Colorbar at 0x7fc34b70fc88>"
            ]
          },
          "metadata": {
            "tags": []
          },
          "execution_count": 27
        },
        {
          "output_type": "display_data",
          "data": {
            "image/png": "[encoded data removed]",
            "text/plain": [
              "<Figure size 432x288 with 2 Axes>"
            ]
          },
          "metadata": {
            "tags": []
          }
        }
      ]
    }
  ]
}