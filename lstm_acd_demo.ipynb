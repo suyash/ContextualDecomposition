{
  "nbformat": 4,
  "nbformat_minor": 0,
  "metadata": {
    "kernelspec": {
      "display_name": "Python 3",
      "language": "python",
      "name": "python3"
    },
    "language_info": {
      "codemirror_mode": {
        "name": "ipython",
        "version": 3
      },
      "file_extension": ".py",
      "mimetype": "text/x-python",
      "name": "python",
      "nbconvert_exporter": "python",
      "pygments_lexer": "ipython3",
      "version": "3.6.10"
    },
    "colab": {
      "name": "lstm_acd_demo.ipynb",
      "provenance": [],
      "collapsed_sections": [
        "dVvn9dO-ubxu"
      ]
    }
  },
  "cells": [
    {
      "cell_type": "markdown",
      "metadata": {
        "id": "dVvn9dO-ubxu",
        "colab_type": "text"
      },
      "source": [
        "### Dependencies"
      ]
    },
    {
      "cell_type": "code",
      "metadata": {
        "id": "gzSqKePGudsE",
        "colab_type": "code",
        "colab": {
          "base_uri": "https://localhost:8080/",
          "height": 121
        },
        "outputId": "23db4c39-2278-4014-a861-584a5620e8b5"
      },
      "source": [
        "!git clone \"https://github.com/suyash/ContextualDecomposition.git\" && mv ContextualDecomposition/cd ./cd"
      ],
      "execution_count": 1,
      "outputs": [
        {
          "output_type": "stream",
          "text": [
            "Cloning into 'ContextualDecomposition'...\n",
            "remote: Enumerating objects: 83, done.\u001b[K\n",
            "remote: Counting objects: 100% (83/83), done.\u001b[K\n",
            "remote: Compressing objects: 100% (40/40), done.\u001b[K\n",
            "remote: Total 83 (delta 42), reused 82 (delta 41), pack-reused 0\n",
            "Unpacking objects: 100% (83/83), done.\n"
          ],
          "name": "stdout"
        }
      ]
    },
    {
      "cell_type": "code",
      "metadata": {
        "id": "FaY44ttOueIQ",
        "colab_type": "code",
        "colab": {
          "base_uri": "https://localhost:8080/",
          "height": 86
        },
        "outputId": "ef36e5ce-eb94-44ff-9d3b-372c93773c17"
      },
      "source": [
        "!curl -L -o \"job_dir.zip\" \"https://drive.google.com/uc?export=download&id=13Uyub6pPWWS9USmj2WxAilPMoYFQZtCd\" && unzip -q -d \"job_dir\" \"job_dir.zip\""
      ],
      "execution_count": 2,
      "outputs": [
        {
          "output_type": "stream",
          "text": [
            "  % Total    % Received % Xferd  Average Speed   Time    Time     Time  Current\n",
            "                                 Dload  Upload   Total   Spent    Left  Speed\n",
            "100   388    0   388    0     0    101      0 --:--:--  0:00:03 --:--:--   101\n",
            "100 21.6M    0 21.6M    0     0  4141k      0 --:--:--  0:00:05 --:--:-- 29.5M\n"
          ],
          "name": "stdout"
        }
      ]
    },
    {
      "cell_type": "markdown",
      "metadata": {
        "id": "UBWOjvdhulnn",
        "colab_type": "text"
      },
      "source": [
        "### Imports"
      ]
    },
    {
      "cell_type": "code",
      "metadata": {
        "id": "rQPUZ9TgvKYL",
        "colab_type": "code",
        "colab": {
          "base_uri": "https://localhost:8080/",
          "height": 34
        },
        "outputId": "b4346273-ca91-4baf-8b5a-a366b2e0e3ce"
      },
      "source": [
        "%tensorflow_version 2.x"
      ],
      "execution_count": 3,
      "outputs": [
        {
          "output_type": "stream",
          "text": [
            "TensorFlow 2.x selected.\n"
          ],
          "name": "stdout"
        }
      ]
    },
    {
      "cell_type": "code",
      "metadata": {
        "id": "gssvX0E1uT9D",
        "colab_type": "code",
        "colab": {}
      },
      "source": [
        "import numpy as np\n",
        "import tensorflow as tf\n",
        "\n",
        "from cd.acd import lstm_acd_decomposition, agglomerate_acd_1d_decomposition\n",
        "from cd.preprocess import create_table, create_inv_table"
      ],
      "execution_count": 0,
      "outputs": []
    },
    {
      "cell_type": "code",
      "metadata": {
        "id": "PPSQObhBuT9X",
        "colab_type": "code",
        "colab": {
          "base_uri": "https://localhost:8080/",
          "height": 295
        },
        "outputId": "efb41b0d-8de3-4ebe-f85d-2d290a2f19ae"
      },
      "source": [
        "model = tf.keras.models.load_model(\"job_dir/saved_model/best\")\n",
        "model.summary()"
      ],
      "execution_count": 5,
      "outputs": [
        {
          "output_type": "stream",
          "text": [
            "Model: \"model\"\n",
            "_________________________________________________________________\n",
            "Layer (type)                 Output Shape              Param #   \n",
            "=================================================================\n",
            "input_1 (InputLayer)         [(None, None)]            0         \n",
            "_________________________________________________________________\n",
            "embedding (Embedding)        (None, None, 128)         1831808   \n",
            "_________________________________________________________________\n",
            "lstm (LSTM)                  (None, 128)               131584    \n",
            "_________________________________________________________________\n",
            "dense (Dense)                (None, 2)                 258       \n",
            "=================================================================\n",
            "Total params: 1,963,650\n",
            "Trainable params: 1,963,650\n",
            "Non-trainable params: 0\n",
            "_________________________________________________________________\n"
          ],
          "name": "stdout"
        }
      ]
    },
    {
      "cell_type": "code",
      "metadata": {
        "id": "k9607b0ZuT9j",
        "colab_type": "code",
        "colab": {}
      },
      "source": [
        "tokens = np.load(\"job_dir/tokens.npy\")\n",
        "table = create_table(tokens)\n",
        "inv_table = create_inv_table(tokens)"
      ],
      "execution_count": 0,
      "outputs": []
    },
    {
      "cell_type": "code",
      "metadata": {
        "id": "_pxUfBHOuT9u",
        "colab_type": "code",
        "colab": {}
      },
      "source": [
        "s = \"it 's easy to love robin tunney -- she is pretty and she can act -- but it gets harder and harder to understand her choices .\""
      ],
      "execution_count": 0,
      "outputs": []
    },
    {
      "cell_type": "code",
      "metadata": {
        "id": "fswmclpmuT94",
        "colab_type": "code",
        "colab": {}
      },
      "source": [
        "text = s.split()"
      ],
      "execution_count": 0,
      "outputs": []
    },
    {
      "cell_type": "code",
      "metadata": {
        "id": "KET0zSp4uT-B",
        "colab_type": "code",
        "colab": {
          "base_uri": "https://localhost:8080/",
          "height": 86
        },
        "outputId": "73d11c11-330d-46e1-f5d8-37f0908171a8"
      },
      "source": [
        "inp = table.lookup(tf.constant(s.split()))\n",
        "inp = tf.expand_dims(inp, 0)\n",
        "inp"
      ],
      "execution_count": 9,
      "outputs": [
        {
          "output_type": "execute_result",
          "data": {
            "text/plain": [
              "<tf.Tensor: shape=(1, 27), dtype=int32, numpy=\n",
              "array([[  12,    8,  396,    7,   82, 3814, 5186,   28,  281,    9,  313,\n",
              "           4,  281,   66,  590,   28,   22,   12,  283, 5449,    4, 5449,\n",
              "           7,  683,  115, 2049,    6]], dtype=int32)>"
            ]
          },
          "metadata": {
            "tags": []
          },
          "execution_count": 9
        }
      ]
    },
    {
      "cell_type": "code",
      "metadata": {
        "id": "zNW2seyEuT-K",
        "colab_type": "code",
        "colab": {
          "base_uri": "https://localhost:8080/",
          "height": 156
        },
        "outputId": "58676888-8401-4d7f-ba5d-00bef7bf34dd"
      },
      "source": [
        "comps, comp_scores = lstm_acd_decomposition(inp, model)"
      ],
      "execution_count": 10,
      "outputs": [
        {
          "output_type": "stream",
          "text": [
            "/content/cd/acd.py:29: RuntimeWarning: invalid value encountered in greater\n",
            "  return a > np.nanpercentile(a, 99.5)\n",
            "/content/cd/acd.py:15: RuntimeWarning: invalid value encountered in greater\n",
            "  return a > np.nanpercentile(a, 59)\n",
            "/content/cd/acd.py:21: RuntimeWarning: invalid value encountered in greater\n",
            "  return a > np.nanpercentile(a, 59)\n",
            "/content/cd/acd.py:24: RuntimeWarning: invalid value encountered in greater\n",
            "  return a > np.nanpercentile(a, 49)\n"
          ],
          "name": "stderr"
        }
      ]
    },
    {
      "cell_type": "code",
      "metadata": {
        "id": "A0ATAJBQuT-U",
        "colab_type": "code",
        "colab": {}
      },
      "source": [
        "tree = agglomerate_acd_1d_decomposition(comps, comp_scores)"
      ],
      "execution_count": 0,
      "outputs": []
    },
    {
      "cell_type": "code",
      "metadata": {
        "id": "OaABlB7tuT-d",
        "colab_type": "code",
        "colab": {
          "base_uri": "https://localhost:8080/",
          "height": 1000
        },
        "outputId": "28c16570-df79-424b-b12f-21a67c6e4a9d"
      },
      "source": [
        "for i, l in enumerate(tree):\n",
        "    print(\"Level\", i)\n",
        "\n",
        "    for s in l:\n",
        "        print(\" \".join(text[s[0][0]:s[0][1]]), \":\", s[1])\n",
        "\n",
        "    print(\"--------------------------------------------------------\")"
      ],
      "execution_count": 12,
      "outputs": [
        {
          "output_type": "stream",
          "text": [
            "Level 0\n",
            "it : 0.05622806400060654\n",
            "'s : -0.17336717247962952\n",
            "easy : 0.1141328439116478\n",
            "to : -0.27177995443344116\n",
            "love : 1.7465598583221436\n",
            "robin : 0.7639279365539551\n",
            "tunney : 0.21042287349700928\n",
            "-- : -0.02498093619942665\n",
            "she : 0.7199404835700989\n",
            "is : 0.2635386884212494\n",
            "pretty : 1.263846755027771\n",
            "and : 0.2790667414665222\n",
            "she : 0.6174754500389099\n",
            "can : 0.2957877516746521\n",
            "act : 0.7715259790420532\n",
            "-- : 0.10193504393100739\n",
            "but : 0.7194859981536865\n",
            "it : -0.014234669506549835\n",
            "gets : -0.1873348355293274\n",
            "harder : -3.147366523742676\n",
            "and : 0.4087800979614258\n",
            "harder : -3.0583136081695557\n",
            "to : -0.0430406890809536\n",
            "understand : -2.0601515769958496\n",
            "her : 1.5029910802841187\n",
            "choices : 1.3775818347930908\n",
            ". : 0.3356570601463318\n",
            "--------------------------------------------------------\n",
            "Level 1\n",
            "understand her : 1.0073017\n",
            "love robin : 3.2940018\n",
            "but it : -0.1526309\n",
            "she is pretty : 2.6888027\n",
            "--------------------------------------------------------\n",
            "Level 2\n",
            "to love robin : 1.9771428\n",
            "understand her choices : 2.177217\n",
            "but it gets harder : -2.6622553\n",
            "she is pretty and she : 5.211006\n",
            "--------------------------------------------------------\n",
            "Level 3\n",
            "to love robin tunney : 2.3923311\n",
            "understand her choices . : 2.5209174\n",
            "she is pretty and she can act : 5.854421\n",
            "--------------------------------------------------------\n",
            "Level 4\n",
            "easy to love robin tunney : 2.6048815\n",
            "harder to understand her choices . : -3.0035818\n",
            "--------------------------------------------------------\n",
            "Level 5\n",
            "'s easy to love robin tunney : 2.299106\n",
            "but it gets harder and harder to understand her choices . : -5.399418\n",
            "--------------------------------------------------------\n",
            "Level 6\n",
            "it 's easy to love robin tunney : 2.3621838\n",
            "--------------------------------------------------------\n",
            "Level 7\n",
            "it 's easy to love robin tunney -- she is pretty and she can act : 5.7594543\n",
            "--------------------------------------------------------\n",
            "Level 8\n",
            "it 's easy to love robin tunney -- she is pretty and she can act -- but it gets harder and harder to understand her choices . : -0.9823799\n",
            "--------------------------------------------------------\n"
          ],
          "name": "stdout"
        }
      ]
    }
  ]
}